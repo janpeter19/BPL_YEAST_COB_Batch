{
 "cells": [
  {
   "cell_type": "markdown",
   "id": "43a36d05",
   "metadata": {},
   "source": [
    "# Notes YEAST_COB_Batch constraint-based approach"
   ]
  },
  {
   "cell_type": "code",
   "execution_count": 1,
   "id": "de3cd8b4",
   "metadata": {},
   "outputs": [
    {
     "name": "stdout",
     "output_type": "stream",
     "text": [
      "Windows - run FMU pre-compiled JModelica 2.14\n",
      "\n",
      "Model for bioreactor has been setup. Key commands:\n",
      " - par()       - change of parameters and initial values\n",
      " - init()      - change initial values only\n",
      " - simu()      - simulate and plot\n",
      " - newplot()   - make a new plot\n",
      " - show()      - show plot from previous simulation\n",
      " - disp()      - display parameters and initial values from the last simulation\n",
      " - describe()  - describe culture, broth, parameters, variables with values/units\n",
      "\n",
      "Note that both disp() and describe() takes values from the last simulation\n",
      "and the command process_diagram() brings up the main configuration\n",
      "\n",
      "Brief information about a command by help(), eg help(simu)\n",
      "Key system information is listed with the command system_info()\n"
     ]
    }
   ],
   "source": [
    "run -i BPL_YEAST_COB_Batch_fmpy_explore.py"
   ]
  },
  {
   "cell_type": "code",
   "execution_count": 2,
   "id": "6783bef1",
   "metadata": {},
   "outputs": [],
   "source": [
    "plt.rcParams['figure.figsize'] = [20/2.54, 16/2.54]"
   ]
  },
  {
   "cell_type": "code",
   "execution_count": 3,
   "id": "ed77b3d1",
   "metadata": {},
   "outputs": [
    {
     "name": "stdout",
     "output_type": "stream",
     "text": [
      "No processDiagram.png file in the FMU, but try the file on disk.\n"
     ]
    },
    {
     "data": {
      "image/png": "[encoded data removed]",
      "text/plain": [
       "<Figure size 787.402x629.921 with 1 Axes>"
      ]
     },
     "metadata": {},
     "output_type": "display_data"
    }
   ],
   "source": [
    "process_diagram()"
   ]
  },
  {
   "cell_type": "markdown",
   "id": "bccc8620",
   "metadata": {},
   "source": [
    "## Try using LP in each step"
   ]
  },
  {
   "cell_type": "code",
   "execution_count": 4,
   "id": "f84aae91",
   "metadata": {},
   "outputs": [],
   "source": [
    "from optlang import Model, Variable, Constraint, Objective"
   ]
  },
  {
   "cell_type": "code",
   "execution_count": 5,
   "id": "ae0a7f7b",
   "metadata": {},
   "outputs": [],
   "source": [
    "# Define culture constraint-based model\n",
    "def culture(G, E):\n",
    "    \n",
    "    # LP calculation of the optimal qGr, qEr based on G and E values\n",
    "    \n",
    "    # - parameters\n",
    "    qO2max = 6.9e-3; kog = 2.3; koe = 1.6; YGr = 3.5; YEr = 1.32; \n",
    "    alpha = 0.01; beta = 1.0\n",
    "    \n",
    "    # - transfer data from dynamic reactor model to static LP model\n",
    "    qGr_opt = Variable('qGr_opt', lb=0)\n",
    "    qEr_opt = Variable('qEr_opt', lb=0)\n",
    "\n",
    "    # - LP model constraint and objective\n",
    "    mu_max = Objective(YGr*qGr_opt + YEr*qEr_opt, direction='max')\n",
    "    qO2lim = Constraint(kog*qGr_opt + koe*qEr_opt, ub=qO2max)\n",
    "    qGlim = Constraint(qGr_opt, ub=alpha*max(0,G))\n",
    "    qElim = Constraint(qEr_opt, ub=beta*max(0,E))\n",
    "\n",
    "    # - put together the LP model\n",
    "    yeast_model = Model(name='Yeast bottleneck model')\n",
    "    yeast_model.objective = mu_max\n",
    "    yeast_model.add(qO2lim)\n",
    "    yeast_model.add(qGlim)\n",
    "    yeast_model.add(qElim)\n",
    "\n",
    "    # - do LP optimization\n",
    "    yeast_model.optimize()\n",
    "            \n",
    "    return (yeast_model.objective.value, yeast_model.variables.qGr_opt.primal, yeast_model.variables.qEr_opt.primal, qO2lim.primal)"
   ]
  },
  {
   "cell_type": "code",
   "execution_count": 6,
   "id": "9bfacccb",
   "metadata": {},
   "outputs": [],
   "source": [
    "# Initialization\n",
    "V_start=1.0\n",
    "init(V_start=V_start, VX_start=V_start*2.0, VG_start=V_start*10, VE_start=V_start*3.0)"
   ]
  },
  {
   "cell_type": "code",
   "execution_count": 7,
   "id": "90790a9f",
   "metadata": {},
   "outputs": [],
   "source": [
    "# Loop of simulations\n",
    "t_final = 8.0\n",
    "t_samp = 0.0333\n",
    "n_samp = t_final/t_samp + 1"
   ]
  },
  {
   "cell_type": "code",
   "execution_count": 17,
   "id": "50bad686",
   "metadata": {},
   "outputs": [
    {
     "ename": "KeyError",
     "evalue": "'ncp'",
     "output_type": "error",
     "traceback": [
      "\u001b[1;31m---------------------------------------------------------------------------\u001b[0m",
      "\u001b[1;31mKeyError\u001b[0m                                  Traceback (most recent call last)",
      "Cell \u001b[1;32mIn [17], line 5\u001b[0m\n\u001b[0;32m      2\u001b[0m newplot(title\u001b[38;5;241m=\u001b[39m\u001b[38;5;124m'\u001b[39m\u001b[38;5;124mBatch cultivation\u001b[39m\u001b[38;5;124m'\u001b[39m, plotType\u001b[38;5;241m=\u001b[39m\u001b[38;5;124m'\u001b[39m\u001b[38;5;124mTimeSeries2\u001b[39m\u001b[38;5;124m'\u001b[39m) \n\u001b[0;32m      3\u001b[0m ax1\u001b[38;5;241m.\u001b[39mset_xlim([\u001b[38;5;241m0\u001b[39m, t_final]); ax2\u001b[38;5;241m.\u001b[39mset_xlim([\u001b[38;5;241m0\u001b[39m, t_final]); ax3\u001b[38;5;241m.\u001b[39mset_xlim([\u001b[38;5;241m0\u001b[39m, t_final])\n\u001b[1;32m----> 5\u001b[0m \u001b[43msimu\u001b[49m\u001b[43m(\u001b[49m\u001b[43mt_samp\u001b[49m\u001b[43m,\u001b[49m\u001b[43m \u001b[49m\u001b[43moptions\u001b[49m\u001b[38;5;241;43m=\u001b[39;49m\u001b[43mopts_fast\u001b[49m\u001b[43m)\u001b[49m\n\u001b[0;32m      6\u001b[0m \u001b[38;5;28;01mfor\u001b[39;00m i \u001b[38;5;129;01min\u001b[39;00m \u001b[38;5;28mrange\u001b[39m(\u001b[38;5;28mint\u001b[39m(n_samp)): \n\u001b[0;32m      7\u001b[0m     (mum_opt, qGr_opt, qEr_opt, qO2_opt) \u001b[38;5;241m=\u001b[39m culture(sim_res[\u001b[38;5;124m'\u001b[39m\u001b[38;5;124mbioreactor.c[2]\u001b[39m\u001b[38;5;124m'\u001b[39m][\u001b[38;5;241m-\u001b[39m\u001b[38;5;241m1\u001b[39m], sim_res[\u001b[38;5;124m'\u001b[39m\u001b[38;5;124mbioreactor.c[3]\u001b[39m\u001b[38;5;124m'\u001b[39m][\u001b[38;5;241m-\u001b[39m\u001b[38;5;241m1\u001b[39m])\n",
      "File \u001b[1;32m\\\\VBoxSvr\\Modelica\\GitHub\\Colab\\BPL_YEAST_COB_Batch\\BPL_YEAST_COB_Batch_fmpy_explore.py:476\u001b[0m, in \u001b[0;36msimu\u001b[1;34m(simulationTime, mode, options, diagrams)\u001b[0m\n\u001b[0;32m    468\u001b[0m    start_values \u001b[38;5;241m=\u001b[39m {parLocation[k]:parDict[k] \u001b[38;5;28;01mfor\u001b[39;00m k \u001b[38;5;129;01min\u001b[39;00m parDict\u001b[38;5;241m.\u001b[39mkeys()}\n\u001b[0;32m    470\u001b[0m    \u001b[38;5;66;03m# Simulate\u001b[39;00m\n\u001b[0;32m    471\u001b[0m    sim_res \u001b[38;5;241m=\u001b[39m simulate_fmu(\n\u001b[0;32m    472\u001b[0m       filename \u001b[38;5;241m=\u001b[39m fmu_model,\n\u001b[0;32m    473\u001b[0m       validate \u001b[38;5;241m=\u001b[39m \u001b[38;5;28;01mFalse\u001b[39;00m,\n\u001b[0;32m    474\u001b[0m       start_time \u001b[38;5;241m=\u001b[39m \u001b[38;5;241m0\u001b[39m,\n\u001b[0;32m    475\u001b[0m       stop_time \u001b[38;5;241m=\u001b[39m simulationTime,\n\u001b[1;32m--> 476\u001b[0m       output_interval \u001b[38;5;241m=\u001b[39m simulationTime\u001b[38;5;241m/\u001b[39m\u001b[43moptions\u001b[49m\u001b[43m[\u001b[49m\u001b[38;5;124;43m'\u001b[39;49m\u001b[38;5;124;43mncp\u001b[39;49m\u001b[38;5;124;43m'\u001b[39;49m\u001b[43m]\u001b[49m,\n\u001b[0;32m    477\u001b[0m       record_events \u001b[38;5;241m=\u001b[39m \u001b[38;5;28;01mTrue\u001b[39;00m,\n\u001b[0;32m    478\u001b[0m       start_values \u001b[38;5;241m=\u001b[39m start_values,\n\u001b[0;32m    479\u001b[0m       fmi_call_logger \u001b[38;5;241m=\u001b[39m \u001b[38;5;28;01mNone\u001b[39;00m,\n\u001b[0;32m    480\u001b[0m       output \u001b[38;5;241m=\u001b[39m \u001b[38;5;28mlist\u001b[39m(\u001b[38;5;28mset\u001b[39m(extract_variables(diagrams) \u001b[38;5;241m+\u001b[39m \u001b[38;5;28mlist\u001b[39m(stateDict\u001b[38;5;241m.\u001b[39mkeys()) \u001b[38;5;241m+\u001b[39m key_variables))\n\u001b[0;32m    481\u001b[0m    )\n\u001b[0;32m    483\u001b[0m    simulationDone \u001b[38;5;241m=\u001b[39m \u001b[38;5;28;01mTrue\u001b[39;00m\n\u001b[0;32m    485\u001b[0m \u001b[38;5;28;01melif\u001b[39;00m mode \u001b[38;5;129;01min\u001b[39;00m [\u001b[38;5;124m'\u001b[39m\u001b[38;5;124mContinued\u001b[39m\u001b[38;5;124m'\u001b[39m, \u001b[38;5;124m'\u001b[39m\u001b[38;5;124mcontinued\u001b[39m\u001b[38;5;124m'\u001b[39m, \u001b[38;5;124m'\u001b[39m\u001b[38;5;124mcont\u001b[39m\u001b[38;5;124m'\u001b[39m]:\n",
      "\u001b[1;31mKeyError\u001b[0m: 'ncp'"
     ]
    },
    {
     "data": {
      "image/png": "[encoded data removed]",
      "text/plain": [
       "<Figure size 787.402x629.921 with 3 Axes>"
      ]
     },
     "metadata": {},
     "output_type": "display_data"
    }
   ],
   "source": [
    "# Simulate n sample steps\n",
    "newplot(title='Batch cultivation', plotType='TimeSeries2') \n",
    "ax1.set_xlim([0, t_final]); ax2.set_xlim([0, t_final]); ax3.set_xlim([0, t_final])\n",
    "\n",
    "simu(t_samp, options=opts_fast)\n",
    "for i in range(int(n_samp)): \n",
    "    (mum_opt, qGr_opt, qEr_opt, qO2_opt) = culture(sim_res['bioreactor.c[2]'][-1], sim_res['bioreactor.c[3]'][-1])\n",
    "    par(mum=mum_opt, qGr=qGr_opt, qEr=qEr_opt, qO2=qO2_opt)\n",
    "    simu(t_samp, 'cont', options=opts_fast)"
   ]
  },
  {
   "cell_type": "code",
   "execution_count": 9,
   "id": "0ccb67b4",
   "metadata": {},
   "outputs": [
    {
     "name": "stdout",
     "output_type": "stream",
     "text": [
      "\n",
      "System information\n",
      " -OS: Windows\n",
      " -Python: 3.9.16\n",
      " -Scipy: not installed in the notebook\n",
      " -FMPy: 0.3.15\n",
      " -FMU by: JModelica.org\n",
      " -FMI: 2.0\n",
      " -Type: CS\n",
      " -Name: BPL_YEAST_COB.Batch\n",
      " -Generated: 2024-03-07T11:03:31\n",
      " -MSL: 3.2.2 build 3\n",
      " -Description: Bioprocess Library version 2.1.2 prel\n",
      " -Interaction: FMU-explore for FMPy version 0.9.9\n"
     ]
    }
   ],
   "source": [
    "system_info()"
   ]
  },
  {
   "cell_type": "code",
   "execution_count": null,
   "id": "b869782a",
   "metadata": {},
   "outputs": [],
   "source": [
    "!conda list optlang"
   ]
  },
  {
   "cell_type": "code",
   "execution_count": 10,
   "id": "7872c7d3",
   "metadata": {},
   "outputs": [
    {
     "data": {
      "text/plain": [
       "{'V_start': 1.0,\n",
       " 'VX_start': 2.0,\n",
       " 'VG_start': 10.0,\n",
       " 'VE_start': 3.0,\n",
       " 'mum': 0,\n",
       " 'qGr': 0,\n",
       " 'qEr': 0,\n",
       " 'qO2': 0}"
      ]
     },
     "execution_count": 10,
     "metadata": {},
     "output_type": "execute_result"
    }
   ],
   "source": [
    "parDict"
   ]
  },
  {
   "cell_type": "code",
   "execution_count": 11,
   "id": "90a0fd1d-4c5c-465e-a3f0-8c4366f9cde8",
   "metadata": {},
   "outputs": [
    {
     "data": {
      "text/plain": [
       "{'V_start': 'bioreactor.V_start',\n",
       " 'VX_start': 'bioreactor.m_start[1]',\n",
       " 'VG_start': 'bioreactor.m_start[2]',\n",
       " 'VE_start': 'bioreactor.m_start[3]',\n",
       " 'mum': 'bioreactor.culture.mum',\n",
       " 'qGr': 'bioreactor.culture.qGr',\n",
       " 'qEr': 'bioreactor.culture.qEr',\n",
       " 'qO2': 'bioreactor.culture.qO2',\n",
       " 'mu': 'bioreactor.culture.mu'}"
      ]
     },
     "execution_count": 11,
     "metadata": {},
     "output_type": "execute_result"
    }
   ],
   "source": [
    "parLocation"
   ]
  },
  {
   "cell_type": "code",
   "execution_count": 13,
   "id": "cca8db4c-d52e-48b3-a99f-a282992db687",
   "metadata": {},
   "outputs": [
    {
     "data": {
      "text/plain": [
       "{'NCP': 100}"
      ]
     },
     "execution_count": 13,
     "metadata": {},
     "output_type": "execute_result"
    }
   ],
   "source": [
    "opts_fast"
   ]
  },
  {
   "cell_type": "code",
   "execution_count": 15,
   "id": "a1a8de15-b404-407b-8050-0ee90718dae3",
   "metadata": {},
   "outputs": [
    {
     "ename": "NameError",
     "evalue": "name 'options' is not defined",
     "output_type": "error",
     "traceback": [
      "\u001b[1;31m---------------------------------------------------------------------------\u001b[0m",
      "\u001b[1;31mNameError\u001b[0m                                 Traceback (most recent call last)",
      "Cell \u001b[1;32mIn [15], line 1\u001b[0m\n\u001b[1;32m----> 1\u001b[0m \u001b[43moptions\u001b[49m[\u001b[38;5;124m'\u001b[39m\u001b[38;5;124mNCP\u001b[39m\u001b[38;5;124m'\u001b[39m]\n",
      "\u001b[1;31mNameError\u001b[0m: name 'options' is not defined"
     ]
    }
   ],
   "source": [
    "options['NCP']"
   ]
  },
  {
   "cell_type": "code",
   "execution_count": 16,
   "id": "6f199953-9702-4b51-9454-ad93b7f0d06f",
   "metadata": {},
   "outputs": [
    {
     "data": {
      "text/plain": [
       "{'NCP': 100}"
      ]
     },
     "execution_count": 16,
     "metadata": {},
     "output_type": "execute_result"
    }
   ],
   "source": [
    "opts_fast"
   ]
  },
  {
   "cell_type": "code",
   "execution_count": null,
   "id": "dd571047-6648-4be5-9da2-95f530fe84d0",
   "metadata": {},
   "outputs": [],
   "source": [
    "                                                                                                                                                                          "
   ]
  }
 ],
 "metadata": {
  "kernelspec": {
   "display_name": "Python 3 (ipykernel)",
   "language": "python",
   "name": "python3"
  },
  "language_info": {
   "codemirror_mode": {
    "name": "ipython",
    "version": 3
   },
   "file_extension": ".py",
   "mimetype": "text/x-python",
   "name": "python",
   "nbconvert_exporter": "python",
   "pygments_lexer": "ipython3",
   "version": "3.9.16"
  }
 },
 "nbformat": 4,
 "nbformat_minor": 5
}
