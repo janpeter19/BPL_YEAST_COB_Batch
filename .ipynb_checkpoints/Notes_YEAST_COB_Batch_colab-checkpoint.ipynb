{
 "cells": [
  {
   "cell_type": "markdown",
   "id": "43a36d05",
   "metadata": {},
   "source": [
    "# Notes YEAST_COB_Batch constraint-based approach"
   ]
  },
  {
   "cell_type": "code",
   "execution_count": 6,
   "id": "de3cd8b4",
   "metadata": {},
   "outputs": [
    {
     "name": "stdout",
     "output_type": "stream",
     "text": [
      "Linux - run FMU pre-comiled OpenModelica 1.21.0\n",
      "\n",
      "Model for bioreactor has been setup. Key commands:\n",
      " - par()       - change of parameters and initial values\n",
      " - init()      - change initial values only\n",
      " - simu()      - simulate and plot\n",
      " - newplot()   - make a new plot\n",
      " - show()      - show plot from previous simulation\n",
      " - disp()      - display parameters and initial values from the last simulation\n",
      " - describe()  - describe culture, broth, parameters, variables with values/units\n",
      "\n",
      "Note that both disp() and describe() takes values from the last simulation\n",
      "\n",
      "Brief information about a command by help(), eg help(simu)\n",
      "Key system information is listed with the command system_info()\n"
     ]
    }
   ],
   "source": [
    "run -i BPL_YEAST_COB_Batch_explore.py"
   ]
  },
  {
   "cell_type": "code",
   "execution_count": 2,
   "id": "6783bef1",
   "metadata": {},
   "outputs": [],
   "source": [
    "plt.rcParams['figure.figsize'] = [20/2.54, 16/2.54]"
   ]
  },
  {
   "cell_type": "markdown",
   "id": "bccc8620",
   "metadata": {},
   "source": [
    "## Try using LP in each step"
   ]
  },
  {
   "cell_type": "code",
   "execution_count": 3,
   "id": "f84aae91",
   "metadata": {},
   "outputs": [],
   "source": [
    "from optlang import Model, Variable, Constraint, Objective"
   ]
  },
  {
   "cell_type": "code",
   "execution_count": 4,
   "id": "ae0a7f7b",
   "metadata": {},
   "outputs": [],
   "source": [
    "# Define culture constraint-based model\n",
    "def culture(G, E):\n",
    "    \n",
    "    # LP calculation of the optimal qGr, qEr based on G and E values\n",
    "    \n",
    "    # - parameters\n",
    "    qO2max = 6.9e-3; kog = 2.3; koe = 1.6; YGr = 3.5; YEr = 1.32; \n",
    "    alpha = 0.01; beta = 1.0\n",
    "    \n",
    "    # - transfer data from dynamic reactor model to static LP model\n",
    "    qGr_opt = Variable('qGr_opt', lb=0)\n",
    "    qEr_opt = Variable('qEr_opt', lb=0)\n",
    "\n",
    "    # - LP model constraint and objective\n",
    "    mu_max = Objective(YGr*qGr_opt + YEr*qEr_opt, direction='max')\n",
    "    qO2lim = Constraint(kog*qGr_opt + koe*qEr_opt, ub=qO2max)\n",
    "    qGlim = Constraint(qGr_opt, ub=alpha*max(0,G))\n",
    "    qElim = Constraint(qEr_opt, ub=beta*max(0,E))\n",
    "\n",
    "    # - put together the LP model\n",
    "    yeast_model = Model(name='Yeast bottleneck model')\n",
    "    yeast_model.objective = mu_max\n",
    "    yeast_model.add(qO2lim)\n",
    "    yeast_model.add(qGlim)\n",
    "    yeast_model.add(qElim)\n",
    "\n",
    "    # - do LP optimization\n",
    "    yeast_model.optimize()\n",
    "            \n",
    "    return (yeast_model.objective.value, yeast_model.variables.qGr_opt.primal, yeast_model.variables.qEr_opt.primal, qO2lim.primal)"
   ]
  },
  {
   "cell_type": "code",
   "execution_count": 5,
   "id": "9bfacccb",
   "metadata": {},
   "outputs": [
    {
     "ename": "NameError",
     "evalue": "name 'init' is not defined",
     "output_type": "error",
     "traceback": [
      "\u001b[0;31m---------------------------------------------------------------------------\u001b[0m",
      "\u001b[0;31mNameError\u001b[0m                                 Traceback (most recent call last)",
      "Cell \u001b[0;32mIn[5], line 3\u001b[0m\n\u001b[1;32m      1\u001b[0m \u001b[38;5;66;03m# Initialization\u001b[39;00m\n\u001b[1;32m      2\u001b[0m V_0\u001b[38;5;241m=\u001b[39m\u001b[38;5;241m1.0\u001b[39m\n\u001b[0;32m----> 3\u001b[0m \u001b[43minit\u001b[49m(V_0\u001b[38;5;241m=\u001b[39mV_0, VX_0\u001b[38;5;241m=\u001b[39mV_0\u001b[38;5;241m*\u001b[39m\u001b[38;5;241m2.0\u001b[39m, VG_0\u001b[38;5;241m=\u001b[39mV_0\u001b[38;5;241m*\u001b[39m\u001b[38;5;241m10\u001b[39m, VE_0\u001b[38;5;241m=\u001b[39m\u001b[38;5;241m3.0\u001b[39m)\n",
      "\u001b[0;31mNameError\u001b[0m: name 'init' is not defined"
     ]
    }
   ],
   "source": [
    "# Initialization\n",
    "V_0=1.0\n",
    "init(V_0=V_0, VX_0=V_0*2.0, VG_0=V_0*10, VE_0=3.0)"
   ]
  },
  {
   "cell_type": "code",
   "execution_count": null,
   "id": "90790a9f",
   "metadata": {},
   "outputs": [],
   "source": [
    "# Loop of simulations\n",
    "t_final = 8.0\n",
    "t_samp = 0.0333\n",
    "n_samp = t_final/t_samp + 1"
   ]
  },
  {
   "cell_type": "code",
   "execution_count": null,
   "id": "50bad686",
   "metadata": {},
   "outputs": [],
   "source": [
    "# Simulate n sample steps\n",
    "newplot(title='Batch cultivation', plotType='TimeSeries2') \n",
    "ax1.set_xlim([0, t_final]); ax2.set_xlim([0, t_final]); ax3.set_xlim([0, t_final])\n",
    "\n",
    "simu(t_samp, options=opts_fast)\n",
    "for i in range(int(n_samp)): \n",
    "    (mum_opt, qGr_opt, qEr_opt, qO2_opt) = culture(sim_res['bioreactor.c[2]'][-1], sim_res['bioreactor.c[3]'][-1])\n",
    "    par(mum=mum_opt, qGr=qGr_opt, qEr=qEr_opt, qO2=qO2_opt)\n",
    "    simu(t_samp, 'cont', options=opts_fast)"
   ]
  },
  {
   "cell_type": "code",
   "execution_count": null,
   "id": "0ccb67b4",
   "metadata": {},
   "outputs": [],
   "source": [
    "system_info()"
   ]
  },
  {
   "cell_type": "code",
   "execution_count": null,
   "id": "b869782a",
   "metadata": {},
   "outputs": [],
   "source": [
    "!conda list optlang"
   ]
  },
  {
   "cell_type": "code",
   "execution_count": null,
   "id": "7872c7d3",
   "metadata": {},
   "outputs": [],
   "source": []
  }
 ],
 "metadata": {
  "kernelspec": {
   "display_name": "Python 3 (ipykernel)",
   "language": "python",
   "name": "python3"
  },
  "language_info": {
   "codemirror_mode": {
    "name": "ipython",
    "version": 3
   },
   "file_extension": ".py",
   "mimetype": "text/x-python",
   "name": "python",
   "nbconvert_exporter": "python",
   "pygments_lexer": "ipython3",
   "version": "3.8.16"
  }
 },
 "nbformat": 4,
 "nbformat_minor": 5
}
