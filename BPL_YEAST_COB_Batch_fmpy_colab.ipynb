{
  "cells": [
    {
      "cell_type": "markdown",
      "metadata": {
        "id": "view-in-github",
        "colab_type": "text"
      },
      "source": [
        "<a href=\"https://colab.research.google.com/github/janpeter19/BPL_YEAST_COB_Batch/blob/main/BPL_YEAST_COB_Batch_fmpy_colab.ipynb\" target=\"_parent\"><img src=\"https://colab.research.google.com/assets/colab-badge.svg\" alt=\"Open In Colab\"/></a>"
      ]
    },
    {
      "cell_type": "markdown",
      "metadata": {
        "id": "UFcMzs4Y3HwH"
      },
      "source": [
        "# BPL_TEST2_Batch script with FMPy ver 0.3.15\n",
        "\n",
        "The key library FMPy ver 0.3.15 is installed. \n",
        "\n",
        "After the installation a small application BPL_YEAST_COB_Batch is loaded and run. You can continue with this example if you like."
      ]
    },
    {
      "cell_type": "code",
      "execution_count": null,
      "metadata": {
        "colab": {
          "base_uri": "https://localhost:8080/"
        },
        "id": "ID68dwep2zus",
        "outputId": "5b14cce8-476b-4cea-be9a-20c3fe52a63e"
      },
      "outputs": [
        {
          "output_type": "stream",
          "name": "stdout",
          "text": [
            "No LSB modules are available.\n",
            "Distributor ID:\tUbuntu\n",
            "Description:\tUbuntu 20.04.5 LTS\n",
            "Release:\t20.04\n",
            "Codename:\tfocal\n"
          ]
        }
      ],
      "source": [
        "!lsb_release -a # Actual VM Ubuntu version used by Google"
      ]
    },
    {
      "cell_type": "code",
      "execution_count": null,
      "metadata": {
        "colab": {
          "base_uri": "https://localhost:8080/"
        },
        "id": "pVDcSg-j3SSV",
        "outputId": "6b734472-f747-4d3a-d4b2-340108465d85"
      },
      "outputs": [
        {
          "output_type": "stream",
          "name": "stdout",
          "text": [
            "env: PYTHONPATH=\n"
          ]
        }
      ],
      "source": [
        "%env PYTHONPATH="
      ]
    },
    {
      "cell_type": "code",
      "execution_count": null,
      "metadata": {
        "colab": {
          "base_uri": "https://localhost:8080/"
        },
        "id": "04VeBmLU3UFx",
        "outputId": "1126a808-b7bb-47d2-8c6e-6a3ebf3e6623"
      },
      "outputs": [
        {
          "output_type": "stream",
          "name": "stdout",
          "text": [
            "--2023-05-31 10:27:42--  https://repo.anaconda.com/miniconda/Miniconda3-py310_23.1.0-1-Linux-x86_64.sh\n",
            "Resolving repo.anaconda.com (repo.anaconda.com)... 104.16.130.3, 104.16.131.3, 2606:4700::6810:8203, ...\n",
            "Connecting to repo.anaconda.com (repo.anaconda.com)|104.16.130.3|:443... connected.\n",
            "HTTP request sent, awaiting response... 200 OK\n",
            "Length: 74403966 (71M) [application/x-sh]\n",
            "Saving to: ‘Miniconda3-py310_23.1.0-1-Linux-x86_64.sh’\n",
            "\n",
            "Miniconda3-py310_23 100%[===================>]  70.96M   169MB/s    in 0.4s    \n",
            "\n",
            "2023-05-31 10:27:42 (169 MB/s) - ‘Miniconda3-py310_23.1.0-1-Linux-x86_64.sh’ saved [74403966/74403966]\n",
            "\n",
            "PREFIX=/usr/local\n",
            "Unpacking payload ...\n",
            "                                                                                       \n",
            "Installing base environment...\n",
            "\n",
            "\n",
            "Downloading and Extracting Packages\n",
            "\n",
            "Preparing transaction: - \b\bdone\n",
            "Executing transaction: | \b\bdone\n",
            "installation finished.\n"
          ]
        }
      ],
      "source": [
        "!wget https://repo.anaconda.com/miniconda/Miniconda3-py310_23.1.0-1-Linux-x86_64.sh \n",
        "!chmod +x Miniconda3-py310_23.1.0-1-Linux-x86_64.sh\n",
        "!bash ./Miniconda3-py310_23.1.0-1-Linux-x86_64.sh -b -f -p /usr/local \n",
        "import sys \n",
        "sys.path.append('/usr/local/lib/python3.10/site-packages/')"
      ]
    },
    {
      "cell_type": "code",
      "execution_count": null,
      "metadata": {
        "colab": {
          "base_uri": "https://localhost:8080/"
        },
        "id": "5iuP4_vl3WFA",
        "outputId": "0308705c-1f18-4178-8b58-aa8d011fb43f"
      },
      "outputs": [
        {
          "output_type": "stream",
          "name": "stdout",
          "text": [
            "/usr/local/lib/python3.10/site-packages/_distutils_hack/__init__.py:33: UserWarning: Setuptools is replacing distutils.\n",
            "  warnings.warn(\"Setuptools is replacing distutils.\")\n",
            "/usr/local/lib/python3.10/site-packages/_distutils_hack/__init__.py:33: UserWarning: Setuptools is replacing distutils.\n",
            "  warnings.warn(\"Setuptools is replacing distutils.\")\n",
            "\n",
            "# >>>>>>>>>>>>>>>>>>>>>> ERROR REPORT <<<<<<<<<<<<<<<<<<<<<<\n",
            "\n",
            "    Traceback (most recent call last):\n",
            "      File \"/usr/local/lib/python3.10/site-packages/requests/compat.py\", line 11, in <module>\n",
            "        import chardet\n",
            "    ModuleNotFoundError: No module named 'chardet'\n",
            "    \n",
            "    During handling of the above exception, another exception occurred:\n",
            "    \n",
            "    Traceback (most recent call last):\n",
            "      File \"/usr/local/lib/python3.10/site-packages/conda/exceptions.py\", line 1124, in __call__\n",
            "        return func(*args, **kwargs)\n",
            "      File \"/usr/local/lib/python3.10/site-packages/conda/cli/main.py\", line 69, in main_subshell\n",
            "        exit_code = do_call(args, p)\n",
            "      File \"/usr/local/lib/python3.10/site-packages/conda/cli/conda_argparse.py\", line 89, in do_call\n",
            "        module = import_module(relative_mod, __name__.rsplit('.', 1)[0])\n",
            "      File \"/usr/local/lib/python3.10/importlib/__init__.py\", line 126, in import_module\n",
            "        return _bootstrap._gcd_import(name[level:], package, level)\n",
            "      File \"<frozen importlib._bootstrap>\", line 1050, in _gcd_import\n",
            "      File \"<frozen importlib._bootstrap>\", line 1027, in _find_and_load\n",
            "      File \"<frozen importlib._bootstrap>\", line 1006, in _find_and_load_unlocked\n",
            "      File \"<frozen importlib._bootstrap>\", line 688, in _load_unlocked\n",
            "      File \"<frozen importlib._bootstrap_external>\", line 883, in exec_module\n",
            "      File \"<frozen importlib._bootstrap>\", line 241, in _call_with_frames_removed\n",
            "      File \"/usr/local/lib/python3.10/site-packages/conda/cli/main_update.py\", line 8, in <module>\n",
            "        from ..notices import notices\n",
            "      File \"/usr/local/lib/python3.10/site-packages/conda/notices/__init__.py\", line 3, in <module>\n",
            "        from .core import notices  # noqa: F401\n",
            "      File \"/usr/local/lib/python3.10/site-packages/conda/notices/core.py\", line 15, in <module>\n",
            "        from . import fetch\n",
            "      File \"/usr/local/lib/python3.10/site-packages/conda/notices/fetch.py\", line 8, in <module>\n",
            "        import requests\n",
            "      File \"/usr/local/lib/python3.10/site-packages/requests/__init__.py\", line 45, in <module>\n",
            "        from .exceptions import RequestsDependencyWarning\n",
            "      File \"/usr/local/lib/python3.10/site-packages/requests/exceptions.py\", line 9, in <module>\n",
            "        from .compat import JSONDecodeError as CompatJSONDecodeError\n",
            "      File \"/usr/local/lib/python3.10/site-packages/requests/compat.py\", line 13, in <module>\n",
            "        import charset_normalizer as chardet\n",
            "    ModuleNotFoundError: No module named 'charset_normalizer'\n",
            "\n",
            "`$ /usr/local/bin/conda update -n base -c defaults conda --yes`\n",
            "\n",
            "  environment variables:\n",
            "                 CIO_TEST=<not set>\n",
            "COLAB_DEBUG_ADAPTER_MUX_PATH=/usr/local/bin/dap_multiplexer\n",
            "COLAB_LANGUAGE_SERVER_PROXY=<set>\n",
            "               CONDA_ROOT=/usr/local\n",
            "           CURL_CA_BUNDLE=<not set>\n",
            "          LD_LIBRARY_PATH=/usr/local/nvidia/lib:/usr/local/nvidia/lib64\n",
            "               LD_PRELOAD=<not set>\n",
            "             LIBRARY_PATH=/usr/local/cuda/lib64/stubs\n",
            "                     PATH=/opt/bin:/usr/local/nvidia/bin:/usr/local/cuda/bin:/usr/local/sbin:/us\n",
            "                          r/local/bin:/usr/sbin:/usr/bin:/sbin:/bin:/tools/node/bin:/tools/googl\n",
            "                          e-cloud-sdk/bin\n",
            "               PYTHONPATH=\n",
            "           PYTHONWARNINGS=ignore:::pip._internal.cli.base_command\n",
            "       REQUESTS_CA_BUNDLE=<not set>\n",
            "            SSL_CERT_FILE=<not set>\n",
            "               TCLLIBPATH=/usr/share/tcltk/tcllib1.20\n",
            "\n",
            "     active environment : None\n",
            "       user config file : /root/.condarc\n",
            " populated config files : \n",
            "          conda version : 23.1.0\n",
            "    conda-build version : not installed\n",
            "         python version : 3.10.9.final.0\n",
            "       virtual packages : __archspec=1=x86_64\n",
            "                          __glibc=2.31=0\n",
            "                          __linux=5.15.107=0\n",
            "                          __unix=0=0\n",
            "       base environment : /usr/local  (writable)\n",
            "      conda av data dir : /usr/local/etc/conda\n",
            "  conda av metadata url : None\n",
            "           channel URLs : https://repo.anaconda.com/pkgs/main/linux-64\n",
            "                          https://repo.anaconda.com/pkgs/main/noarch\n",
            "                          https://repo.anaconda.com/pkgs/r/linux-64\n",
            "                          https://repo.anaconda.com/pkgs/r/noarch\n",
            "          package cache : /usr/local/pkgs\n",
            "                          /root/.conda/pkgs\n",
            "       envs directories : /usr/local/envs\n",
            "                          /root/.conda/envs\n",
            "               platform : linux-64\n",
            "             user-agent : conda/23.1.0 requests/2.28.1 CPython/3.10.9 Linux/5.15.107+ ubuntu/20.04.5 glibc/2.31\n",
            "                UID:GID : 0:0\n",
            "             netrc file : None\n",
            "           offline mode : False\n",
            "\n",
            "\n",
            "An unexpected error has occurred. Conda has prepared the above report.\n",
            "\n",
            "Upload did not complete.\n"
          ]
        }
      ],
      "source": [
        "!conda update -n base -c defaults conda --yes"
      ]
    },
    {
      "cell_type": "code",
      "execution_count": null,
      "metadata": {
        "colab": {
          "base_uri": "https://localhost:8080/"
        },
        "id": "uoBMBSS63Z58",
        "outputId": "960d44ff-72eb-457a-99cb-8b150898fa6b"
      },
      "outputs": [
        {
          "output_type": "stream",
          "name": "stdout",
          "text": [
            "/usr/local/lib/python3.10/site-packages/_distutils_hack/__init__.py:33: UserWarning: Setuptools is replacing distutils.\n",
            "  warnings.warn(\"Setuptools is replacing distutils.\")\n",
            "conda 23.1.0\n",
            "Python 3.10.9\n"
          ]
        }
      ],
      "source": [
        "!conda --version\n",
        "!python --version"
      ]
    },
    {
      "cell_type": "code",
      "execution_count": null,
      "metadata": {
        "colab": {
          "base_uri": "https://localhost:8080/"
        },
        "id": "RMuJRdfH3dDq",
        "outputId": "16a331c2-300d-4721-d212-00f5fdb9d614"
      },
      "outputs": [
        {
          "output_type": "stream",
          "name": "stdout",
          "text": [
            "/usr/local/lib/python3.10/site-packages/_distutils_hack/__init__.py:33: UserWarning: Setuptools is replacing distutils.\n",
            "  warnings.warn(\"Setuptools is replacing distutils.\")\n",
            "/usr/local/lib/python3.10/site-packages/_distutils_hack/__init__.py:33: UserWarning: Setuptools is replacing distutils.\n",
            "  warnings.warn(\"Setuptools is replacing distutils.\")\n",
            "\n",
            "# >>>>>>>>>>>>>>>>>>>>>> ERROR REPORT <<<<<<<<<<<<<<<<<<<<<<\n",
            "\n",
            "    Traceback (most recent call last):\n",
            "      File \"/usr/local/lib/python3.10/site-packages/requests/compat.py\", line 11, in <module>\n",
            "        import chardet\n",
            "    ModuleNotFoundError: No module named 'chardet'\n",
            "    \n",
            "    During handling of the above exception, another exception occurred:\n",
            "    \n",
            "    Traceback (most recent call last):\n",
            "      File \"/usr/local/lib/python3.10/site-packages/conda/exceptions.py\", line 1124, in __call__\n",
            "        return func(*args, **kwargs)\n",
            "      File \"/usr/local/lib/python3.10/site-packages/conda/cli/main.py\", line 69, in main_subshell\n",
            "        exit_code = do_call(args, p)\n",
            "      File \"/usr/local/lib/python3.10/site-packages/conda/cli/conda_argparse.py\", line 89, in do_call\n",
            "        module = import_module(relative_mod, __name__.rsplit('.', 1)[0])\n",
            "      File \"/usr/local/lib/python3.10/importlib/__init__.py\", line 126, in import_module\n",
            "        return _bootstrap._gcd_import(name[level:], package, level)\n",
            "      File \"<frozen importlib._bootstrap>\", line 1050, in _gcd_import\n",
            "      File \"<frozen importlib._bootstrap>\", line 1027, in _find_and_load\n",
            "      File \"<frozen importlib._bootstrap>\", line 1006, in _find_and_load_unlocked\n",
            "      File \"<frozen importlib._bootstrap>\", line 688, in _load_unlocked\n",
            "      File \"<frozen importlib._bootstrap_external>\", line 883, in exec_module\n",
            "      File \"<frozen importlib._bootstrap>\", line 241, in _call_with_frames_removed\n",
            "      File \"/usr/local/lib/python3.10/site-packages/conda/cli/main_install.py\", line 8, in <module>\n",
            "        from ..notices import notices\n",
            "      File \"/usr/local/lib/python3.10/site-packages/conda/notices/__init__.py\", line 3, in <module>\n",
            "        from .core import notices  # noqa: F401\n",
            "      File \"/usr/local/lib/python3.10/site-packages/conda/notices/core.py\", line 15, in <module>\n",
            "        from . import fetch\n",
            "      File \"/usr/local/lib/python3.10/site-packages/conda/notices/fetch.py\", line 8, in <module>\n",
            "        import requests\n",
            "      File \"/usr/local/lib/python3.10/site-packages/requests/__init__.py\", line 45, in <module>\n",
            "        from .exceptions import RequestsDependencyWarning\n",
            "      File \"/usr/local/lib/python3.10/site-packages/requests/exceptions.py\", line 9, in <module>\n",
            "        from .compat import JSONDecodeError as CompatJSONDecodeError\n",
            "      File \"/usr/local/lib/python3.10/site-packages/requests/compat.py\", line 13, in <module>\n",
            "        import charset_normalizer as chardet\n",
            "    ModuleNotFoundError: No module named 'charset_normalizer'\n",
            "\n",
            "`$ /usr/local/bin/conda install -c conda-forge fmpy --yes`\n",
            "\n",
            "  environment variables:\n",
            "                 CIO_TEST=<not set>\n",
            "COLAB_DEBUG_ADAPTER_MUX_PATH=/usr/local/bin/dap_multiplexer\n",
            "COLAB_LANGUAGE_SERVER_PROXY=<set>\n",
            "               CONDA_ROOT=/usr/local\n",
            "           CURL_CA_BUNDLE=<not set>\n",
            "          LD_LIBRARY_PATH=/usr/local/nvidia/lib:/usr/local/nvidia/lib64\n",
            "               LD_PRELOAD=<not set>\n",
            "             LIBRARY_PATH=/usr/local/cuda/lib64/stubs\n",
            "                     PATH=/opt/bin:/usr/local/nvidia/bin:/usr/local/cuda/bin:/usr/local/sbin:/us\n",
            "                          r/local/bin:/usr/sbin:/usr/bin:/sbin:/bin:/tools/node/bin:/tools/googl\n",
            "                          e-cloud-sdk/bin\n",
            "               PYTHONPATH=\n",
            "           PYTHONWARNINGS=ignore:::pip._internal.cli.base_command\n",
            "       REQUESTS_CA_BUNDLE=<not set>\n",
            "            SSL_CERT_FILE=<not set>\n",
            "               TCLLIBPATH=/usr/share/tcltk/tcllib1.20\n",
            "\n",
            "     active environment : None\n",
            "       user config file : /root/.condarc\n",
            " populated config files : \n",
            "          conda version : 23.1.0\n",
            "    conda-build version : not installed\n",
            "         python version : 3.10.9.final.0\n",
            "       virtual packages : __archspec=1=x86_64\n",
            "                          __glibc=2.31=0\n",
            "                          __linux=5.15.107=0\n",
            "                          __unix=0=0\n",
            "       base environment : /usr/local  (writable)\n",
            "      conda av data dir : /usr/local/etc/conda\n",
            "  conda av metadata url : None\n",
            "           channel URLs : https://conda.anaconda.org/conda-forge/linux-64\n",
            "                          https://conda.anaconda.org/conda-forge/noarch\n",
            "                          https://repo.anaconda.com/pkgs/main/linux-64\n",
            "                          https://repo.anaconda.com/pkgs/main/noarch\n",
            "                          https://repo.anaconda.com/pkgs/r/linux-64\n",
            "                          https://repo.anaconda.com/pkgs/r/noarch\n",
            "          package cache : /usr/local/pkgs\n",
            "                          /root/.conda/pkgs\n",
            "       envs directories : /usr/local/envs\n",
            "                          /root/.conda/envs\n",
            "               platform : linux-64\n",
            "             user-agent : conda/23.1.0 requests/2.28.1 CPython/3.10.9 Linux/5.15.107+ ubuntu/20.04.5 glibc/2.31\n",
            "                UID:GID : 0:0\n",
            "             netrc file : None\n",
            "           offline mode : False\n",
            "\n",
            "\n",
            "An unexpected error has occurred. Conda has prepared the above report.\n",
            "\n",
            "Upload did not complete.\n"
          ]
        }
      ],
      "source": [
        "!conda install -c conda-forge fmpy --yes # Install the key package"
      ]
    },
    {
      "cell_type": "code",
      "source": [
        "!conda install matplotlib --yes"
      ],
      "metadata": {
        "colab": {
          "base_uri": "https://localhost:8080/"
        },
        "id": "zGfSEtcfMVF_",
        "outputId": "222fab02-8a23-4f3c-d7e7-ce2cccb0673d"
      },
      "execution_count": null,
      "outputs": [
        {
          "output_type": "stream",
          "name": "stdout",
          "text": [
            "/usr/local/lib/python3.10/site-packages/_distutils_hack/__init__.py:33: UserWarning: Setuptools is replacing distutils.\n",
            "  warnings.warn(\"Setuptools is replacing distutils.\")\n",
            "/usr/local/lib/python3.10/site-packages/_distutils_hack/__init__.py:33: UserWarning: Setuptools is replacing distutils.\n",
            "  warnings.warn(\"Setuptools is replacing distutils.\")\n",
            "\n",
            "# >>>>>>>>>>>>>>>>>>>>>> ERROR REPORT <<<<<<<<<<<<<<<<<<<<<<\n",
            "\n",
            "    Traceback (most recent call last):\n",
            "      File \"/usr/local/lib/python3.10/site-packages/requests/compat.py\", line 11, in <module>\n",
            "        import chardet\n",
            "    ModuleNotFoundError: No module named 'chardet'\n",
            "    \n",
            "    During handling of the above exception, another exception occurred:\n",
            "    \n",
            "    Traceback (most recent call last):\n",
            "      File \"/usr/local/lib/python3.10/site-packages/conda/exceptions.py\", line 1124, in __call__\n",
            "        return func(*args, **kwargs)\n",
            "      File \"/usr/local/lib/python3.10/site-packages/conda/cli/main.py\", line 69, in main_subshell\n",
            "        exit_code = do_call(args, p)\n",
            "      File \"/usr/local/lib/python3.10/site-packages/conda/cli/conda_argparse.py\", line 89, in do_call\n",
            "        module = import_module(relative_mod, __name__.rsplit('.', 1)[0])\n",
            "      File \"/usr/local/lib/python3.10/importlib/__init__.py\", line 126, in import_module\n",
            "        return _bootstrap._gcd_import(name[level:], package, level)\n",
            "      File \"<frozen importlib._bootstrap>\", line 1050, in _gcd_import\n",
            "      File \"<frozen importlib._bootstrap>\", line 1027, in _find_and_load\n",
            "      File \"<frozen importlib._bootstrap>\", line 1006, in _find_and_load_unlocked\n",
            "      File \"<frozen importlib._bootstrap>\", line 688, in _load_unlocked\n",
            "      File \"<frozen importlib._bootstrap_external>\", line 883, in exec_module\n",
            "      File \"<frozen importlib._bootstrap>\", line 241, in _call_with_frames_removed\n",
            "      File \"/usr/local/lib/python3.10/site-packages/conda/cli/main_install.py\", line 8, in <module>\n",
            "        from ..notices import notices\n",
            "      File \"/usr/local/lib/python3.10/site-packages/conda/notices/__init__.py\", line 3, in <module>\n",
            "        from .core import notices  # noqa: F401\n",
            "      File \"/usr/local/lib/python3.10/site-packages/conda/notices/core.py\", line 15, in <module>\n",
            "        from . import fetch\n",
            "      File \"/usr/local/lib/python3.10/site-packages/conda/notices/fetch.py\", line 8, in <module>\n",
            "        import requests\n",
            "      File \"/usr/local/lib/python3.10/site-packages/requests/__init__.py\", line 45, in <module>\n",
            "        from .exceptions import RequestsDependencyWarning\n",
            "      File \"/usr/local/lib/python3.10/site-packages/requests/exceptions.py\", line 9, in <module>\n",
            "        from .compat import JSONDecodeError as CompatJSONDecodeError\n",
            "      File \"/usr/local/lib/python3.10/site-packages/requests/compat.py\", line 13, in <module>\n",
            "        import charset_normalizer as chardet\n",
            "    ModuleNotFoundError: No module named 'charset_normalizer'\n",
            "\n",
            "`$ /usr/local/bin/conda install matplotlib --yes`\n",
            "\n",
            "  environment variables:\n",
            "                 CIO_TEST=<not set>\n",
            "COLAB_DEBUG_ADAPTER_MUX_PATH=/usr/local/bin/dap_multiplexer\n",
            "COLAB_LANGUAGE_SERVER_PROXY=<set>\n",
            "               CONDA_ROOT=/usr/local\n",
            "           CURL_CA_BUNDLE=<not set>\n",
            "          LD_LIBRARY_PATH=/usr/local/nvidia/lib:/usr/local/nvidia/lib64\n",
            "               LD_PRELOAD=<not set>\n",
            "             LIBRARY_PATH=/usr/local/cuda/lib64/stubs\n",
            "                     PATH=/opt/bin:/usr/local/nvidia/bin:/usr/local/cuda/bin:/usr/local/sbin:/us\n",
            "                          r/local/bin:/usr/sbin:/usr/bin:/sbin:/bin:/tools/node/bin:/tools/googl\n",
            "                          e-cloud-sdk/bin\n",
            "               PYTHONPATH=\n",
            "           PYTHONWARNINGS=ignore:::pip._internal.cli.base_command\n",
            "       REQUESTS_CA_BUNDLE=<not set>\n",
            "            SSL_CERT_FILE=<not set>\n",
            "               TCLLIBPATH=/usr/share/tcltk/tcllib1.20\n",
            "\n",
            "     active environment : None\n",
            "       user config file : /root/.condarc\n",
            " populated config files : \n",
            "          conda version : 23.1.0\n",
            "    conda-build version : not installed\n",
            "         python version : 3.10.9.final.0\n",
            "       virtual packages : __archspec=1=x86_64\n",
            "                          __glibc=2.31=0\n",
            "                          __linux=5.15.107=0\n",
            "                          __unix=0=0\n",
            "       base environment : /usr/local  (writable)\n",
            "      conda av data dir : /usr/local/etc/conda\n",
            "  conda av metadata url : None\n",
            "           channel URLs : https://repo.anaconda.com/pkgs/main/linux-64\n",
            "                          https://repo.anaconda.com/pkgs/main/noarch\n",
            "                          https://repo.anaconda.com/pkgs/r/linux-64\n",
            "                          https://repo.anaconda.com/pkgs/r/noarch\n",
            "          package cache : /usr/local/pkgs\n",
            "                          /root/.conda/pkgs\n",
            "       envs directories : /usr/local/envs\n",
            "                          /root/.conda/envs\n",
            "               platform : linux-64\n",
            "             user-agent : conda/23.1.0 requests/2.28.1 CPython/3.10.9 Linux/5.15.107+ ubuntu/20.04.5 glibc/2.31\n",
            "                UID:GID : 0:0\n",
            "             netrc file : None\n",
            "           offline mode : False\n",
            "\n",
            "\n",
            "An unexpected error has occurred. Conda has prepared the above report.\n",
            "\n",
            "Upload did not complete.\n"
          ]
        }
      ]
    },
    {
      "cell_type": "code",
      "source": [
        "#!conda install scipy --yes"
      ],
      "metadata": {
        "id": "P331PfESMWM-"
      },
      "execution_count": null,
      "outputs": []
    },
    {
      "cell_type": "code",
      "source": [
        "#!conda install xlrd --yes"
      ],
      "metadata": {
        "id": "QObtV8VAMuYE"
      },
      "execution_count": null,
      "outputs": []
    },
    {
      "cell_type": "code",
      "source": [
        "#!conda install openpyxl --yes"
      ],
      "metadata": {
        "id": "z4p1aZ0BM3Pb"
      },
      "execution_count": null,
      "outputs": []
    },
    {
      "cell_type": "code",
      "source": [
        "!pip install optlang --yes"
      ],
      "metadata": {
        "id": "HN0b6HVUN_eA",
        "outputId": "3337826b-28f0-4588-cd2a-2fab818c4bf7",
        "colab": {
          "base_uri": "https://localhost:8080/"
        }
      },
      "execution_count": null,
      "outputs": [
        {
          "output_type": "stream",
          "name": "stdout",
          "text": [
            "/usr/local/lib/python3.10/site-packages/_distutils_hack/__init__.py:33: UserWarning: Setuptools is replacing distutils.\n",
            "  warnings.warn(\"Setuptools is replacing distutils.\")\n",
            "/usr/local/lib/python3.10/site-packages/_distutils_hack/__init__.py:33: UserWarning: Setuptools is replacing distutils.\n",
            "  warnings.warn(\"Setuptools is replacing distutils.\")\n",
            "\n",
            "# >>>>>>>>>>>>>>>>>>>>>> ERROR REPORT <<<<<<<<<<<<<<<<<<<<<<\n",
            "\n",
            "    Traceback (most recent call last):\n",
            "      File \"/usr/local/lib/python3.10/site-packages/requests/compat.py\", line 11, in <module>\n",
            "        import chardet\n",
            "    ModuleNotFoundError: No module named 'chardet'\n",
            "    \n",
            "    During handling of the above exception, another exception occurred:\n",
            "    \n",
            "    Traceback (most recent call last):\n",
            "      File \"/usr/local/lib/python3.10/site-packages/conda/exceptions.py\", line 1124, in __call__\n",
            "        return func(*args, **kwargs)\n",
            "      File \"/usr/local/lib/python3.10/site-packages/conda/cli/main.py\", line 69, in main_subshell\n",
            "        exit_code = do_call(args, p)\n",
            "      File \"/usr/local/lib/python3.10/site-packages/conda/cli/conda_argparse.py\", line 89, in do_call\n",
            "        module = import_module(relative_mod, __name__.rsplit('.', 1)[0])\n",
            "      File \"/usr/local/lib/python3.10/importlib/__init__.py\", line 126, in import_module\n",
            "        return _bootstrap._gcd_import(name[level:], package, level)\n",
            "      File \"<frozen importlib._bootstrap>\", line 1050, in _gcd_import\n",
            "      File \"<frozen importlib._bootstrap>\", line 1027, in _find_and_load\n",
            "      File \"<frozen importlib._bootstrap>\", line 1006, in _find_and_load_unlocked\n",
            "      File \"<frozen importlib._bootstrap>\", line 688, in _load_unlocked\n",
            "      File \"<frozen importlib._bootstrap_external>\", line 883, in exec_module\n",
            "      File \"<frozen importlib._bootstrap>\", line 241, in _call_with_frames_removed\n",
            "      File \"/usr/local/lib/python3.10/site-packages/conda/cli/main_install.py\", line 8, in <module>\n",
            "        from ..notices import notices\n",
            "      File \"/usr/local/lib/python3.10/site-packages/conda/notices/__init__.py\", line 3, in <module>\n",
            "        from .core import notices  # noqa: F401\n",
            "      File \"/usr/local/lib/python3.10/site-packages/conda/notices/core.py\", line 15, in <module>\n",
            "        from . import fetch\n",
            "      File \"/usr/local/lib/python3.10/site-packages/conda/notices/fetch.py\", line 8, in <module>\n",
            "        import requests\n",
            "      File \"/usr/local/lib/python3.10/site-packages/requests/__init__.py\", line 45, in <module>\n",
            "        from .exceptions import RequestsDependencyWarning\n",
            "      File \"/usr/local/lib/python3.10/site-packages/requests/exceptions.py\", line 9, in <module>\n",
            "        from .compat import JSONDecodeError as CompatJSONDecodeError\n",
            "      File \"/usr/local/lib/python3.10/site-packages/requests/compat.py\", line 13, in <module>\n",
            "        import charset_normalizer as chardet\n",
            "    ModuleNotFoundError: No module named 'charset_normalizer'\n",
            "\n",
            "`$ /usr/local/bin/conda install optlang --yes`\n",
            "\n",
            "  environment variables:\n",
            "                 CIO_TEST=<not set>\n",
            "COLAB_DEBUG_ADAPTER_MUX_PATH=/usr/local/bin/dap_multiplexer\n",
            "COLAB_LANGUAGE_SERVER_PROXY=<set>\n",
            "               CONDA_ROOT=/usr/local\n",
            "           CURL_CA_BUNDLE=<not set>\n",
            "          LD_LIBRARY_PATH=/usr/local/nvidia/lib:/usr/local/nvidia/lib64\n",
            "               LD_PRELOAD=<not set>\n",
            "             LIBRARY_PATH=/usr/local/cuda/lib64/stubs\n",
            "                     PATH=/opt/bin:/usr/local/nvidia/bin:/usr/local/cuda/bin:/usr/local/sbin:/us\n",
            "                          r/local/bin:/usr/sbin:/usr/bin:/sbin:/bin:/tools/node/bin:/tools/googl\n",
            "                          e-cloud-sdk/bin\n",
            "               PYTHONPATH=\n",
            "           PYTHONWARNINGS=ignore:::pip._internal.cli.base_command\n",
            "       REQUESTS_CA_BUNDLE=<not set>\n",
            "            SSL_CERT_FILE=<not set>\n",
            "               TCLLIBPATH=/usr/share/tcltk/tcllib1.20\n",
            "\n",
            "     active environment : None\n",
            "       user config file : /root/.condarc\n",
            " populated config files : \n",
            "          conda version : 23.1.0\n",
            "    conda-build version : not installed\n",
            "         python version : 3.10.9.final.0\n",
            "       virtual packages : __archspec=1=x86_64\n",
            "                          __glibc=2.31=0\n",
            "                          __linux=5.15.107=0\n",
            "                          __unix=0=0\n",
            "       base environment : /usr/local  (writable)\n",
            "      conda av data dir : /usr/local/etc/conda\n",
            "  conda av metadata url : None\n",
            "           channel URLs : https://repo.anaconda.com/pkgs/main/linux-64\n",
            "                          https://repo.anaconda.com/pkgs/main/noarch\n",
            "                          https://repo.anaconda.com/pkgs/r/linux-64\n",
            "                          https://repo.anaconda.com/pkgs/r/noarch\n",
            "          package cache : /usr/local/pkgs\n",
            "                          /root/.conda/pkgs\n",
            "       envs directories : /usr/local/envs\n",
            "                          /root/.conda/envs\n",
            "               platform : linux-64\n",
            "             user-agent : conda/23.1.0 requests/2.28.1 CPython/3.10.9 Linux/5.15.107+ ubuntu/20.04.5 glibc/2.31\n",
            "                UID:GID : 0:0\n",
            "             netrc file : None\n",
            "           offline mode : False\n",
            "\n",
            "\n",
            "An unexpected error has occurred. Conda has prepared the above report.\n",
            "\n",
            "Upload did not complete.\n"
          ]
        }
      ]
    },
    {
      "cell_type": "markdown",
      "metadata": {
        "id": "UTETJm3l6heL"
      },
      "source": [
        "# BPL_YEAST_COB_Batch setup\n"
      ]
    },
    {
      "cell_type": "markdown",
      "metadata": {
        "id": "mxILgQ103nZ6"
      },
      "source": [
        "Now specific installation and the run simulations. Start with connecting to Github. Then upload the two files:\n",
        "\n",
        "* FMU - BPL_YEAST_COB_Batch_linux_om_me.fmu\n",
        "* Setup-file - BPL_YEAST_COB_Batch_fmpy_explore.py"
      ]
    },
    {
      "cell_type": "code",
      "execution_count": null,
      "metadata": {
        "colab": {
          "base_uri": "https://localhost:8080/",
          "height": 364
        },
        "id": "RfWPh1B63yBF",
        "outputId": "e935acec-7406-42a1-e434-9d7850d12f0d"
      },
      "outputs": [
        {
          "output_type": "stream",
          "name": "stderr",
          "text": [
            "fatal: destination path 'BPL_YEAST_COB_Batch' already exists and is not an empty directory.\n"
          ]
        },
        {
          "output_type": "error",
          "ename": "CalledProcessError",
          "evalue": "ignored",
          "traceback": [
            "\u001b[0;31m---------------------------------------------------------------------------\u001b[0m",
            "\u001b[0;31mCalledProcessError\u001b[0m                        Traceback (most recent call last)",
            "\u001b[0;32m<ipython-input-12-006707d0f004>\u001b[0m in \u001b[0;36m<cell line: 1>\u001b[0;34m()\u001b[0m\n\u001b[0;32m----> 1\u001b[0;31m \u001b[0mget_ipython\u001b[0m\u001b[0;34m(\u001b[0m\u001b[0;34m)\u001b[0m\u001b[0;34m.\u001b[0m\u001b[0mrun_cell_magic\u001b[0m\u001b[0;34m(\u001b[0m\u001b[0;34m'bash'\u001b[0m\u001b[0;34m,\u001b[0m \u001b[0;34m''\u001b[0m\u001b[0;34m,\u001b[0m \u001b[0;34m'git clone https://github.com/janpeter19/BPL_YEAST_COB_Batch\\n'\u001b[0m\u001b[0;34m)\u001b[0m\u001b[0;34m\u001b[0m\u001b[0;34m\u001b[0m\u001b[0m\n\u001b[0m",
            "\u001b[0;32m/usr/local/lib/python3.10/dist-packages/google/colab/_shell.py\u001b[0m in \u001b[0;36mrun_cell_magic\u001b[0;34m(self, magic_name, line, cell)\u001b[0m\n\u001b[1;32m    332\u001b[0m     \u001b[0;32mif\u001b[0m \u001b[0mline\u001b[0m \u001b[0;32mand\u001b[0m \u001b[0;32mnot\u001b[0m \u001b[0mcell\u001b[0m\u001b[0;34m:\u001b[0m\u001b[0;34m\u001b[0m\u001b[0;34m\u001b[0m\u001b[0m\n\u001b[1;32m    333\u001b[0m       \u001b[0mcell\u001b[0m \u001b[0;34m=\u001b[0m \u001b[0;34m' '\u001b[0m\u001b[0;34m\u001b[0m\u001b[0;34m\u001b[0m\u001b[0m\n\u001b[0;32m--> 334\u001b[0;31m     \u001b[0;32mreturn\u001b[0m \u001b[0msuper\u001b[0m\u001b[0;34m(\u001b[0m\u001b[0;34m)\u001b[0m\u001b[0;34m.\u001b[0m\u001b[0mrun_cell_magic\u001b[0m\u001b[0;34m(\u001b[0m\u001b[0mmagic_name\u001b[0m\u001b[0;34m,\u001b[0m \u001b[0mline\u001b[0m\u001b[0;34m,\u001b[0m \u001b[0mcell\u001b[0m\u001b[0;34m)\u001b[0m\u001b[0;34m\u001b[0m\u001b[0;34m\u001b[0m\u001b[0m\n\u001b[0m\u001b[1;32m    335\u001b[0m \u001b[0;34m\u001b[0m\u001b[0m\n\u001b[1;32m    336\u001b[0m \u001b[0;34m\u001b[0m\u001b[0m\n",
            "\u001b[0;32m/usr/local/lib/python3.10/dist-packages/IPython/core/interactiveshell.py\u001b[0m in \u001b[0;36mrun_cell_magic\u001b[0;34m(self, magic_name, line, cell)\u001b[0m\n\u001b[1;32m   2471\u001b[0m             \u001b[0;32mwith\u001b[0m \u001b[0mself\u001b[0m\u001b[0;34m.\u001b[0m\u001b[0mbuiltin_trap\u001b[0m\u001b[0;34m:\u001b[0m\u001b[0;34m\u001b[0m\u001b[0;34m\u001b[0m\u001b[0m\n\u001b[1;32m   2472\u001b[0m                 \u001b[0margs\u001b[0m \u001b[0;34m=\u001b[0m \u001b[0;34m(\u001b[0m\u001b[0mmagic_arg_s\u001b[0m\u001b[0;34m,\u001b[0m \u001b[0mcell\u001b[0m\u001b[0;34m)\u001b[0m\u001b[0;34m\u001b[0m\u001b[0;34m\u001b[0m\u001b[0m\n\u001b[0;32m-> 2473\u001b[0;31m                 \u001b[0mresult\u001b[0m \u001b[0;34m=\u001b[0m \u001b[0mfn\u001b[0m\u001b[0;34m(\u001b[0m\u001b[0;34m*\u001b[0m\u001b[0margs\u001b[0m\u001b[0;34m,\u001b[0m \u001b[0;34m**\u001b[0m\u001b[0mkwargs\u001b[0m\u001b[0;34m)\u001b[0m\u001b[0;34m\u001b[0m\u001b[0;34m\u001b[0m\u001b[0m\n\u001b[0m\u001b[1;32m   2474\u001b[0m             \u001b[0;32mreturn\u001b[0m \u001b[0mresult\u001b[0m\u001b[0;34m\u001b[0m\u001b[0;34m\u001b[0m\u001b[0m\n\u001b[1;32m   2475\u001b[0m \u001b[0;34m\u001b[0m\u001b[0m\n",
            "\u001b[0;32m/usr/local/lib/python3.10/dist-packages/IPython/core/magics/script.py\u001b[0m in \u001b[0;36mnamed_script_magic\u001b[0;34m(line, cell)\u001b[0m\n\u001b[1;32m    140\u001b[0m             \u001b[0;32melse\u001b[0m\u001b[0;34m:\u001b[0m\u001b[0;34m\u001b[0m\u001b[0;34m\u001b[0m\u001b[0m\n\u001b[1;32m    141\u001b[0m                 \u001b[0mline\u001b[0m \u001b[0;34m=\u001b[0m \u001b[0mscript\u001b[0m\u001b[0;34m\u001b[0m\u001b[0;34m\u001b[0m\u001b[0m\n\u001b[0;32m--> 142\u001b[0;31m             \u001b[0;32mreturn\u001b[0m \u001b[0mself\u001b[0m\u001b[0;34m.\u001b[0m\u001b[0mshebang\u001b[0m\u001b[0;34m(\u001b[0m\u001b[0mline\u001b[0m\u001b[0;34m,\u001b[0m \u001b[0mcell\u001b[0m\u001b[0;34m)\u001b[0m\u001b[0;34m\u001b[0m\u001b[0;34m\u001b[0m\u001b[0m\n\u001b[0m\u001b[1;32m    143\u001b[0m \u001b[0;34m\u001b[0m\u001b[0m\n\u001b[1;32m    144\u001b[0m         \u001b[0;31m# write a basic docstring:\u001b[0m\u001b[0;34m\u001b[0m\u001b[0;34m\u001b[0m\u001b[0m\n",
            "\u001b[0;32m<decorator-gen-103>\u001b[0m in \u001b[0;36mshebang\u001b[0;34m(self, line, cell)\u001b[0m\n",
            "\u001b[0;32m/usr/local/lib/python3.10/dist-packages/IPython/core/magic.py\u001b[0m in \u001b[0;36m<lambda>\u001b[0;34m(f, *a, **k)\u001b[0m\n\u001b[1;32m    185\u001b[0m     \u001b[0;31m# but it's overkill for just that one bit of state.\u001b[0m\u001b[0;34m\u001b[0m\u001b[0;34m\u001b[0m\u001b[0m\n\u001b[1;32m    186\u001b[0m     \u001b[0;32mdef\u001b[0m \u001b[0mmagic_deco\u001b[0m\u001b[0;34m(\u001b[0m\u001b[0marg\u001b[0m\u001b[0;34m)\u001b[0m\u001b[0;34m:\u001b[0m\u001b[0;34m\u001b[0m\u001b[0;34m\u001b[0m\u001b[0m\n\u001b[0;32m--> 187\u001b[0;31m         \u001b[0mcall\u001b[0m \u001b[0;34m=\u001b[0m \u001b[0;32mlambda\u001b[0m \u001b[0mf\u001b[0m\u001b[0;34m,\u001b[0m \u001b[0;34m*\u001b[0m\u001b[0ma\u001b[0m\u001b[0;34m,\u001b[0m \u001b[0;34m**\u001b[0m\u001b[0mk\u001b[0m\u001b[0;34m:\u001b[0m \u001b[0mf\u001b[0m\u001b[0;34m(\u001b[0m\u001b[0;34m*\u001b[0m\u001b[0ma\u001b[0m\u001b[0;34m,\u001b[0m \u001b[0;34m**\u001b[0m\u001b[0mk\u001b[0m\u001b[0;34m)\u001b[0m\u001b[0;34m\u001b[0m\u001b[0;34m\u001b[0m\u001b[0m\n\u001b[0m\u001b[1;32m    188\u001b[0m \u001b[0;34m\u001b[0m\u001b[0m\n\u001b[1;32m    189\u001b[0m         \u001b[0;32mif\u001b[0m \u001b[0mcallable\u001b[0m\u001b[0;34m(\u001b[0m\u001b[0marg\u001b[0m\u001b[0;34m)\u001b[0m\u001b[0;34m:\u001b[0m\u001b[0;34m\u001b[0m\u001b[0;34m\u001b[0m\u001b[0m\n",
            "\u001b[0;32m/usr/local/lib/python3.10/dist-packages/IPython/core/magics/script.py\u001b[0m in \u001b[0;36mshebang\u001b[0;34m(self, line, cell)\u001b[0m\n\u001b[1;32m    243\u001b[0m             \u001b[0msys\u001b[0m\u001b[0;34m.\u001b[0m\u001b[0mstderr\u001b[0m\u001b[0;34m.\u001b[0m\u001b[0mflush\u001b[0m\u001b[0;34m(\u001b[0m\u001b[0;34m)\u001b[0m\u001b[0;34m\u001b[0m\u001b[0;34m\u001b[0m\u001b[0m\n\u001b[1;32m    244\u001b[0m         \u001b[0;32mif\u001b[0m \u001b[0margs\u001b[0m\u001b[0;34m.\u001b[0m\u001b[0mraise_error\u001b[0m \u001b[0;32mand\u001b[0m \u001b[0mp\u001b[0m\u001b[0;34m.\u001b[0m\u001b[0mreturncode\u001b[0m\u001b[0;34m!=\u001b[0m\u001b[0;36m0\u001b[0m\u001b[0;34m:\u001b[0m\u001b[0;34m\u001b[0m\u001b[0;34m\u001b[0m\u001b[0m\n\u001b[0;32m--> 245\u001b[0;31m             \u001b[0;32mraise\u001b[0m \u001b[0mCalledProcessError\u001b[0m\u001b[0;34m(\u001b[0m\u001b[0mp\u001b[0m\u001b[0;34m.\u001b[0m\u001b[0mreturncode\u001b[0m\u001b[0;34m,\u001b[0m \u001b[0mcell\u001b[0m\u001b[0;34m,\u001b[0m \u001b[0moutput\u001b[0m\u001b[0;34m=\u001b[0m\u001b[0mout\u001b[0m\u001b[0;34m,\u001b[0m \u001b[0mstderr\u001b[0m\u001b[0;34m=\u001b[0m\u001b[0merr\u001b[0m\u001b[0;34m)\u001b[0m\u001b[0;34m\u001b[0m\u001b[0;34m\u001b[0m\u001b[0m\n\u001b[0m\u001b[1;32m    246\u001b[0m \u001b[0;34m\u001b[0m\u001b[0m\n\u001b[1;32m    247\u001b[0m     \u001b[0;32mdef\u001b[0m \u001b[0m_run_script\u001b[0m\u001b[0;34m(\u001b[0m\u001b[0mself\u001b[0m\u001b[0;34m,\u001b[0m \u001b[0mp\u001b[0m\u001b[0;34m,\u001b[0m \u001b[0mcell\u001b[0m\u001b[0;34m,\u001b[0m \u001b[0mto_close\u001b[0m\u001b[0;34m)\u001b[0m\u001b[0;34m:\u001b[0m\u001b[0;34m\u001b[0m\u001b[0;34m\u001b[0m\u001b[0m\n",
            "\u001b[0;31mCalledProcessError\u001b[0m: Command 'b'git clone https://github.com/janpeter19/BPL_YEAST_COB_Batch\\n'' returned non-zero exit status 128."
          ]
        }
      ],
      "source": [
        "%%bash \n",
        "git clone https://github.com/janpeter19/BPL_YEAST_COB_Batch"
      ]
    },
    {
      "cell_type": "code",
      "execution_count": null,
      "metadata": {
        "id": "i6uOVB44300a"
      },
      "outputs": [],
      "source": [
        "%cd BPL_YEAST_COB_Batch"
      ]
    },
    {
      "cell_type": "code",
      "execution_count": null,
      "metadata": {
        "id": "b-y82jZY33cO"
      },
      "outputs": [],
      "source": [
        "run -i BPL_YEAST_COB_Batch_fmpy_explore.py"
      ]
    },
    {
      "cell_type": "code",
      "execution_count": null,
      "metadata": {
        "id": "HUFhuE-H4RCw"
      },
      "outputs": [],
      "source": [
        "%matplotlib inline\n",
        "plt.rcParams['figure.figsize'] = [25/2.54, 20/2.54]"
      ]
    },
    {
      "cell_type": "code",
      "execution_count": null,
      "metadata": {
        "id": "cMO4OlAgJIlb"
      },
      "outputs": [],
      "source": [
        "import warnings\n",
        "warnings.filterwarnings(\"ignore\")"
      ]
    },
    {
      "cell_type": "markdown",
      "metadata": {
        "id": "dx9oMnP0RJkM"
      },
      "source": [
        "## BPL_YEAST_COB_Batch - demo\n",
        "\n"
      ]
    },
    {
      "cell_type": "code",
      "execution_count": null,
      "metadata": {
        "id": "UeMOu19LJT6b"
      },
      "outputs": [],
      "source": [
        "from optlang import Model, Variable, Constraint, Objective"
      ]
    },
    {
      "cell_type": "code",
      "execution_count": null,
      "metadata": {
        "id": "-Y3NHWIj4TZ6"
      },
      "outputs": [],
      "source": [
        "describe('culture'); print(); #describe('liquidphase')                                  # Pump schedule parameter \n"
      ]
    },
    {
      "cell_type": "code",
      "source": [
        "# Define culture constraint-based model\n",
        "def culture(G, E):\n",
        "    \n",
        "    # LP calculation of the optimal qGr, qEr based on G and E values\n",
        "    \n",
        "    # - parameters\n",
        "    qO2max = 6.9e-3; kog = 2.3; koe = 1.6; YGr = 3.5; YEr = 1.32; \n",
        "    alpha = 0.01; beta = 1.0\n",
        "    \n",
        "    # - transfer data from dynamic reactor model to static LP model\n",
        "    qGr_opt = Variable('qGr_opt', lb=0)\n",
        "    qEr_opt = Variable('qEr_opt', lb=0)\n",
        "\n",
        "    # - LP model constraint and objective\n",
        "    mu_max = Objective(YGr*qGr_opt + YEr*qEr_opt, direction='max')\n",
        "    qO2lim = Constraint(kog*qGr_opt + koe*qEr_opt, ub=qO2max)\n",
        "    qGlim = Constraint(qGr_opt, ub=alpha*max(0,G))\n",
        "    qElim = Constraint(qEr_opt, ub=beta*max(0,E))\n",
        "\n",
        "    # - put together the LP model\n",
        "    yeast_model = Model(name='Yeast bottleneck model')\n",
        "    yeast_model.objective = mu_max\n",
        "    yeast_model.add(qO2lim)\n",
        "    yeast_model.add(qGlim)\n",
        "    yeast_model.add(qElim)\n",
        "\n",
        "    # - do LP optimization\n",
        "    yeast_model.optimize()\n",
        "            \n",
        "    return (yeast_model.objective.value, yeast_model.variables.qGr_opt.primal, yeast_model.variables.qEr_opt.primal, qO2lim.primal)"
      ],
      "metadata": {
        "id": "nJpSSL2HO0Gj"
      },
      "execution_count": null,
      "outputs": []
    },
    {
      "cell_type": "code",
      "execution_count": null,
      "metadata": {
        "id": "mtWJ3rfbJaVN"
      },
      "outputs": [],
      "source": [
        "# Initialization\n",
        "V_0=1.0\n",
        "init(V_0=V_0, VX_0=V_0*2.0, VG_0=V_0*10, VE_0=3.0)"
      ]
    },
    {
      "cell_type": "code",
      "source": [
        "# Loop of simulations\n",
        "t_final = 8.0\n",
        "t_samp = 0.0333\n",
        "n_samp = t_final/t_samp + 1"
      ],
      "metadata": {
        "id": "GIxPx4GzO-5F"
      },
      "execution_count": null,
      "outputs": []
    },
    {
      "cell_type": "code",
      "execution_count": null,
      "metadata": {
        "id": "IOLRVcsFJ5NX"
      },
      "outputs": [],
      "source": [
        "# Simulate n sample steps\n",
        "newplot(title='Batch cultivation', plotType='TimeSeries2') \n",
        "ax1.set_xlim([0, t_final]); ax2.set_xlim([0, t_final]); ax3.set_xlim([0, t_final])\n",
        "\n",
        "simu(t_samp, options=opts_fast)\n",
        "for i in range(int(n_samp)): \n",
        "    (mum_opt, qGr_opt, qEr_opt, qO2_opt) = culture(sim_res['bioreactor.c[2]'][-1], sim_res['bioreactor.c[3]'][-1])\n",
        "    par(mum=mum_opt, qGr=qGr_opt, qEr=qEr_opt, qO2=qO2_opt)\n",
        "    simu(t_samp, 'cont', options=opts_fast)"
      ]
    },
    {
      "cell_type": "code",
      "execution_count": null,
      "metadata": {
        "id": "D7lCWmdiKNLm"
      },
      "outputs": [],
      "source": [
        "system_info()"
      ]
    },
    {
      "cell_type": "code",
      "source": [
        "!conda list optlang"
      ],
      "metadata": {
        "id": "NKnJAfZ3Ngm5"
      },
      "execution_count": null,
      "outputs": []
    }
  ],
  "metadata": {
    "colab": {
      "provenance": [],
      "include_colab_link": true
    },
    "kernelspec": {
      "display_name": "Python 3 (ipykernel)",
      "language": "python",
      "name": "python3"
    },
    "language_info": {
      "codemirror_mode": {
        "name": "ipython",
        "version": 3
      },
      "file_extension": ".py",
      "mimetype": "text/x-python",
      "name": "python",
      "nbconvert_exporter": "python",
      "pygments_lexer": "ipython3",
      "version": "3.8.16"
    }
  },
  "nbformat": 4,
  "nbformat_minor": 0
}