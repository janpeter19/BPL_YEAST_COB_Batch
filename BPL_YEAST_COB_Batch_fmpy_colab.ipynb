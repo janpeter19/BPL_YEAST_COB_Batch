{
  "cells": [
    {
      "cell_type": "markdown",
      "metadata": {
        "id": "view-in-github",
        "colab_type": "text"
      },
      "source": [
        "<a href=\"https://colab.research.google.com/github/janpeter19/BPL_YEAST_COB_Batch/blob/main/BPL_YEAST_COB_Batch_fmpy_colab.ipynb\" target=\"_parent\"><img src=\"https://colab.research.google.com/assets/colab-badge.svg\" alt=\"Open In Colab\"/></a>"
      ]
    },
    {
      "cell_type": "markdown",
      "metadata": {
        "id": "UFcMzs4Y3HwH"
      },
      "source": [
        "# BPL_TEST2_Batch script with FMPy\n",
        "\n",
        "The key library FMPy is installed.\n",
        "\n",
        "After the installation a small application BPL_YEAST_COB_Batch is loaded and run. You can continue with this example if you like."
      ]
    },
    {
      "cell_type": "code",
      "execution_count": 1,
      "metadata": {
        "colab": {
          "base_uri": "https://localhost:8080/"
        },
        "id": "ID68dwep2zus",
        "outputId": "0c54b0cf-92f0-4cab-e08f-4e680780948a"
      },
      "outputs": [
        {
          "output_type": "stream",
          "name": "stdout",
          "text": [
            "No LSB modules are available.\n",
            "Distributor ID:\tUbuntu\n",
            "Description:\tUbuntu 22.04.4 LTS\n",
            "Release:\t22.04\n",
            "Codename:\tjammy\n"
          ]
        }
      ],
      "source": [
        "!lsb_release -a # Actual VM Ubuntu version used by Google"
      ]
    },
    {
      "cell_type": "code",
      "source": [
        "!python --version"
      ],
      "metadata": {
        "id": "EP1IDpTBD4wJ",
        "outputId": "da75af48-0efa-425f-a838-0ca76f6cbd91",
        "colab": {
          "base_uri": "https://localhost:8080/"
        }
      },
      "execution_count": 2,
      "outputs": [
        {
          "output_type": "stream",
          "name": "stdout",
          "text": [
            "Python 3.11.11\n"
          ]
        }
      ]
    },
    {
      "cell_type": "code",
      "execution_count": 3,
      "metadata": {
        "colab": {
          "base_uri": "https://localhost:8080/"
        },
        "id": "04VeBmLU3UFx",
        "outputId": "f17d8c4b-1bc0-41a3-c5c7-2cea5f978da5"
      },
      "outputs": [
        {
          "output_type": "stream",
          "name": "stdout",
          "text": [
            "Collecting fmpy\n",
            "  Downloading FMPy-0.3.22-py3-none-any.whl.metadata (1.9 kB)\n",
            "Requirement already satisfied: attrs in /usr/local/lib/python3.11/dist-packages (from fmpy) (25.1.0)\n",
            "Requirement already satisfied: Jinja2 in /usr/local/lib/python3.11/dist-packages (from fmpy) (3.1.5)\n",
            "Collecting lark (from fmpy)\n",
            "  Downloading lark-1.2.2-py3-none-any.whl.metadata (1.8 kB)\n",
            "Requirement already satisfied: lxml in /usr/local/lib/python3.11/dist-packages (from fmpy) (5.3.1)\n",
            "Requirement already satisfied: msgpack in /usr/local/lib/python3.11/dist-packages (from fmpy) (1.1.0)\n",
            "Requirement already satisfied: numpy in /usr/local/lib/python3.11/dist-packages (from fmpy) (1.26.4)\n",
            "Requirement already satisfied: MarkupSafe>=2.0 in /usr/local/lib/python3.11/dist-packages (from Jinja2->fmpy) (3.0.2)\n",
            "Downloading FMPy-0.3.22-py3-none-any.whl (4.9 MB)\n",
            "\u001b[2K   \u001b[90m━━━━━━━━━━━━━━━━━━━━━━━━━━━━━━━━━━━━━━━━\u001b[0m \u001b[32m4.9/4.9 MB\u001b[0m \u001b[31m26.2 MB/s\u001b[0m eta \u001b[36m0:00:00\u001b[0m\n",
            "\u001b[?25hDownloading lark-1.2.2-py3-none-any.whl (111 kB)\n",
            "\u001b[2K   \u001b[90m━━━━━━━━━━━━━━━━━━━━━━━━━━━━━━━━━━━━━━━━\u001b[0m \u001b[32m111.0/111.0 kB\u001b[0m \u001b[31m3.4 MB/s\u001b[0m eta \u001b[36m0:00:00\u001b[0m\n",
            "\u001b[?25hInstalling collected packages: lark, fmpy\n",
            "Successfully installed fmpy-0.3.22 lark-1.2.2\n"
          ]
        }
      ],
      "source": [
        "!pip install fmpy"
      ]
    },
    {
      "cell_type": "code",
      "source": [
        "# For some reason conda installation does not work for optlang\n",
        "!pip install optlang"
      ],
      "metadata": {
        "id": "HN0b6HVUN_eA",
        "outputId": "c8bf1c08-6134-4e91-f5b5-c2fffe040df2",
        "colab": {
          "base_uri": "https://localhost:8080/"
        }
      },
      "execution_count": 4,
      "outputs": [
        {
          "output_type": "stream",
          "name": "stdout",
          "text": [
            "Collecting optlang\n",
            "  Downloading optlang-1.8.3-py2.py3-none-any.whl.metadata (8.2 kB)\n",
            "Collecting swiglpk>=5.0.12 (from optlang)\n",
            "  Downloading swiglpk-5.0.12-cp311-cp311-manylinux_2_17_x86_64.manylinux2014_x86_64.whl.metadata (5.5 kB)\n",
            "Requirement already satisfied: sympy>=1.12.0 in /usr/local/lib/python3.11/dist-packages (from optlang) (1.13.1)\n",
            "Requirement already satisfied: mpmath<1.4,>=1.1.0 in /usr/local/lib/python3.11/dist-packages (from sympy>=1.12.0->optlang) (1.3.0)\n",
            "Downloading optlang-1.8.3-py2.py3-none-any.whl (141 kB)\n",
            "\u001b[2K   \u001b[90m━━━━━━━━━━━━━━━━━━━━━━━━━━━━━━━━━━━━━━━━\u001b[0m \u001b[32m141.8/141.8 kB\u001b[0m \u001b[31m5.0 MB/s\u001b[0m eta \u001b[36m0:00:00\u001b[0m\n",
            "\u001b[?25hDownloading swiglpk-5.0.12-cp311-cp311-manylinux_2_17_x86_64.manylinux2014_x86_64.whl (2.3 MB)\n",
            "\u001b[2K   \u001b[90m━━━━━━━━━━━━━━━━━━━━━━━━━━━━━━━━━━━━━━━━\u001b[0m \u001b[32m2.3/2.3 MB\u001b[0m \u001b[31m28.3 MB/s\u001b[0m eta \u001b[36m0:00:00\u001b[0m\n",
            "\u001b[?25hInstalling collected packages: swiglpk, optlang\n",
            "Successfully installed optlang-1.8.3 swiglpk-5.0.12\n"
          ]
        }
      ]
    },
    {
      "cell_type": "markdown",
      "metadata": {
        "id": "UTETJm3l6heL"
      },
      "source": [
        "# BPL_YEAST_COB_Batch setup\n"
      ]
    },
    {
      "cell_type": "markdown",
      "metadata": {
        "id": "mxILgQ103nZ6"
      },
      "source": [
        "Now specific installation and the run simulations. Start with connecting to Github. Then upload the two files:\n",
        "\n",
        "* FMU - BPL_YEAST_COB_Batch_linux_om_me.fmu\n",
        "* Setup-file - BPL_YEAST_COB_Batch_fmpy_explore.py"
      ]
    },
    {
      "cell_type": "code",
      "execution_count": 5,
      "metadata": {
        "colab": {
          "base_uri": "https://localhost:8080/"
        },
        "id": "RfWPh1B63yBF",
        "outputId": "f780f2d8-0715-46b8-abf6-4855d73179b2"
      },
      "outputs": [
        {
          "output_type": "stream",
          "name": "stderr",
          "text": [
            "Cloning into 'BPL_YEAST_COB_Batch'...\n"
          ]
        }
      ],
      "source": [
        "%%bash\n",
        "git clone https://github.com/janpeter19/BPL_YEAST_COB_Batch"
      ]
    },
    {
      "cell_type": "code",
      "execution_count": 6,
      "metadata": {
        "id": "i6uOVB44300a",
        "outputId": "71cd3f3d-c2e9-4596-d674-d087b65895f2",
        "colab": {
          "base_uri": "https://localhost:8080/"
        }
      },
      "outputs": [
        {
          "output_type": "stream",
          "name": "stdout",
          "text": [
            "/content/BPL_YEAST_COB_Batch\n"
          ]
        }
      ],
      "source": [
        "%cd BPL_YEAST_COB_Batch"
      ]
    },
    {
      "cell_type": "code",
      "execution_count": 7,
      "metadata": {
        "id": "b-y82jZY33cO",
        "outputId": "fd1a6a15-d4ee-42b8-95e1-01f8b471980e",
        "colab": {
          "base_uri": "https://localhost:8080/"
        }
      },
      "outputs": [
        {
          "output_type": "stream",
          "name": "stdout",
          "text": [
            "Linux - run FMU pre-comiled OpenModelica\n",
            "\n",
            "Model for bioreactor has been setup. Key commands:\n",
            " - par()       - change of parameters and initial values\n",
            " - init()      - change initial values only\n",
            " - simu()      - simulate and plot\n",
            " - newplot()   - make a new plot\n",
            " - show()      - show plot from previous simulation\n",
            " - disp()      - display parameters and initial values from the last simulation\n",
            " - describe()  - describe culture, broth, parameters, variables with values/units\n",
            "\n",
            "Note that both disp() and describe() takes values from the last simulation\n",
            "and the command process_diagram() brings up the main configuration\n",
            "\n",
            "Brief information about a command by help(), eg help(simu)\n",
            "Key system information is listed with the command system_info()\n"
          ]
        }
      ],
      "source": [
        "run -i BPL_YEAST_COB_Batch_fmpy_explore.py"
      ]
    },
    {
      "cell_type": "code",
      "execution_count": 8,
      "metadata": {
        "id": "HUFhuE-H4RCw"
      },
      "outputs": [],
      "source": [
        "%matplotlib inline\n",
        "plt.rcParams['figure.figsize'] = [25/2.54, 20/2.54]"
      ]
    },
    {
      "cell_type": "code",
      "execution_count": 9,
      "metadata": {
        "id": "cMO4OlAgJIlb"
      },
      "outputs": [],
      "source": [
        "import warnings\n",
        "warnings.filterwarnings(\"ignore\")"
      ]
    },
    {
      "cell_type": "markdown",
      "metadata": {
        "id": "dx9oMnP0RJkM"
      },
      "source": [
        "## BPL_YEAST_COB_Batch - demo\n",
        "\n"
      ]
    },
    {
      "cell_type": "code",
      "execution_count": 10,
      "metadata": {
        "id": "UeMOu19LJT6b"
      },
      "outputs": [],
      "source": [
        "from optlang import Model, Variable, Constraint, Objective"
      ]
    },
    {
      "cell_type": "code",
      "source": [
        "process_diagram()"
      ],
      "metadata": {
        "id": "8PxV2IHQ_y7T",
        "outputId": "6f06f67a-2566-4b9c-fef2-b30ee307bbeb",
        "colab": {
          "base_uri": "https://localhost:8080/",
          "height": 306
        }
      },
      "execution_count": 11,
      "outputs": [
        {
          "output_type": "stream",
          "name": "stdout",
          "text": [
            "No processDiagram.png file in the FMU, but try the file on disk.\n"
          ]
        },
        {
          "output_type": "display_data",
          "data": {
            "text/plain": [
              "<Figure size 984.252x787.402 with 1 Axes>"
            ],
            "image/png": "[encoded data removed]"
          },
          "metadata": {}
        }
      ]
    },
    {
      "cell_type": "code",
      "execution_count": 12,
      "metadata": {
        "id": "-Y3NHWIj4TZ6",
        "outputId": "fec2b7e1-0e11-42e0-eed7-c86c450381c6",
        "colab": {
          "base_uri": "https://localhost:8080/"
        }
      },
      "outputs": [
        {
          "output_type": "stream",
          "name": "stdout",
          "text": [
            "Saccharomyces cerevisae - default parameters for strain H1022\n",
            "\n"
          ]
        }
      ],
      "source": [
        "describe('culture'); print(); #describe('liquidphase')                                  # Pump schedule parameter\n"
      ]
    },
    {
      "cell_type": "code",
      "source": [
        "# Define culture constraint-based model\n",
        "def culture(G, E):\n",
        "\n",
        "    # LP calculation of the optimal qGr, qEr based on G and E values\n",
        "\n",
        "    # - parameters\n",
        "    qO2max = 6.9e-3; kog = 2.3; koe = 1.6; YGr = 3.5; YEr = 1.32;\n",
        "    alpha = 0.01; beta = 1.0\n",
        "\n",
        "    # - transfer data from dynamic reactor model to static LP model\n",
        "    qGr_opt = Variable('qGr_opt', lb=0)\n",
        "    qEr_opt = Variable('qEr_opt', lb=0)\n",
        "\n",
        "    # - LP model constraint and objective\n",
        "    mu_max = Objective(YGr*qGr_opt + YEr*qEr_opt, direction='max')\n",
        "    qO2lim = Constraint(kog*qGr_opt + koe*qEr_opt, ub=qO2max)\n",
        "    qGlim = Constraint(qGr_opt, ub=alpha*max(0,G))\n",
        "    qElim = Constraint(qEr_opt, ub=beta*max(0,E))\n",
        "\n",
        "    # - put together the LP model\n",
        "    yeast_model = Model(name='Yeast bottleneck model')\n",
        "    yeast_model.objective = mu_max\n",
        "    yeast_model.add(qO2lim)\n",
        "    yeast_model.add(qGlim)\n",
        "    yeast_model.add(qElim)\n",
        "\n",
        "    # - do LP optimization\n",
        "    yeast_model.optimize()\n",
        "\n",
        "    return (yeast_model.objective.value, yeast_model.variables.qGr_opt.primal, yeast_model.variables.qEr_opt.primal, qO2lim.primal)"
      ],
      "metadata": {
        "id": "nJpSSL2HO0Gj"
      },
      "execution_count": 13,
      "outputs": []
    },
    {
      "cell_type": "code",
      "execution_count": 14,
      "metadata": {
        "id": "mtWJ3rfbJaVN"
      },
      "outputs": [],
      "source": [
        "# Initialization\n",
        "V_start=1.0\n",
        "init(V_start=V_start, VX_start=V_start*2.0, VG_start=V_start*10, VE_start=V_start*3.0)"
      ]
    },
    {
      "cell_type": "code",
      "source": [
        "# Loop of simulations\n",
        "t_final = 8.0\n",
        "t_samp = 0.0333\n",
        "n_samp = t_final/t_samp + 1"
      ],
      "metadata": {
        "id": "GIxPx4GzO-5F"
      },
      "execution_count": 15,
      "outputs": []
    },
    {
      "cell_type": "code",
      "execution_count": 16,
      "metadata": {
        "id": "IOLRVcsFJ5NX",
        "outputId": "69a61e92-6aff-4a46-ef0d-74e93a3d583f",
        "colab": {
          "base_uri": "https://localhost:8080/",
          "height": 708
        }
      },
      "outputs": [
        {
          "output_type": "display_data",
          "data": {
            "text/plain": [
              "<Figure size 984.252x787.402 with 3 Axes>"
            ],
            "image/png": "[encoded data removed]"
          },
          "metadata": {}
        }
      ],
      "source": [
        "# Simulate n sample steps\n",
        "newplot(title='Batch cultivation', plotType='TimeSeries2')\n",
        "ax1.set_xlim([0, t_final]); ax2.set_xlim([0, t_final]); ax3.set_xlim([0, t_final])\n",
        "\n",
        "simu(t_samp, options=opts_fast)\n",
        "for i in range(int(n_samp)):\n",
        "    (mum_opt, qGr_opt, qEr_opt, qO2_opt) = culture(sim_res['bioreactor.c[2]'][-1], sim_res['bioreactor.c[3]'][-1])\n",
        "    par(mum=mum_opt, qGr=qGr_opt, qEr=qEr_opt, qO2=qO2_opt)\n",
        "    simu(t_samp, 'cont', options=opts_fast)"
      ]
    },
    {
      "cell_type": "code",
      "execution_count": 17,
      "metadata": {
        "id": "D7lCWmdiKNLm",
        "outputId": "069406dc-5188-48e0-8236-fff25b2938e8",
        "colab": {
          "base_uri": "https://localhost:8080/"
        }
      },
      "outputs": [
        {
          "output_type": "stream",
          "name": "stdout",
          "text": [
            "\n",
            "System information\n",
            " -OS: Linux\n",
            " -Python: 3.11.11\n",
            " -Scipy: not installed in the notebook\n",
            " -FMPy: 0.3.22\n",
            " -FMU by: OpenModelica Compiler OpenModelica 1.25.0~dev-133-ga5470be\n",
            " -FMI: 2.0\n",
            " -Type: ME\n",
            " -Name: BPL_YEAST_COB.Batch\n",
            " -Generated: 2024-11-08T08:21:20Z\n",
            " -MSL: 3.2.3\n",
            " -Description: Bioprocess Library version 2.3.0\n",
            " -Interaction: FMU-explore for FMPy version 1.0.1\n"
          ]
        }
      ],
      "source": [
        "system_info()"
      ]
    },
    {
      "cell_type": "code",
      "source": [],
      "metadata": {
        "id": "Rsp0QFz7j6BJ"
      },
      "execution_count": 28,
      "outputs": []
    },
    {
      "cell_type": "code",
      "source": [],
      "metadata": {
        "id": "I5YxY83glJJt"
      },
      "execution_count": null,
      "outputs": []
    }
  ],
  "metadata": {
    "colab": {
      "provenance": [],
      "include_colab_link": true
    },
    "kernelspec": {
      "display_name": "Python 3 (ipykernel)",
      "language": "python",
      "name": "python3"
    },
    "language_info": {
      "codemirror_mode": {
        "name": "ipython",
        "version": 3
      },
      "file_extension": ".py",
      "mimetype": "text/x-python",
      "name": "python",
      "nbconvert_exporter": "python",
      "pygments_lexer": "ipython3",
      "version": "3.8.16"
    }
  },
  "nbformat": 4,
  "nbformat_minor": 0
}